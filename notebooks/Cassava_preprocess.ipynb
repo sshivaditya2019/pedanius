{
 "cells": [
  {
   "cell_type": "markdown",
   "id": "8640e4f8",
   "metadata": {},
   "source": [
    "# Cassava Leaf Disease Classification"
   ]
  },
  {
   "cell_type": "markdown",
   "id": "abf4bee9",
   "metadata": {},
   "source": [
    "## Import"
   ]
  },
  {
   "cell_type": "code",
   "execution_count": 6,
   "id": "3f9c075b",
   "metadata": {},
   "outputs": [],
   "source": [
    "import numpy as np \n",
    "import pandas as pd \n",
    "from torch.utils.data import Dataset\n",
    "from torch.utils.data import DataLoader\n",
    "import torch\n",
    "import os\n",
    "import pandas as pd\n",
    "from torchvision.io import read_image\n",
    "from torchvision import datasets, models, transforms\n",
    "from torch.utils.data import DataLoader\n",
    "import matplotlib.pyplot as plt"
   ]
  },
  {
   "cell_type": "markdown",
   "id": "af5dedf9",
   "metadata": {},
   "source": [
    "## Data Loading"
   ]
  },
  {
   "cell_type": "code",
   "execution_count": 3,
   "id": "9ca2101c",
   "metadata": {},
   "outputs": [],
   "source": [
    "img_dir = \"C:/Users/aakas/cassava-leaf-disease-classification/train_images/\"\n",
    "annotations_file = \"C:/Users/aakas/cassava-leaf-disease-classification/train.csv\""
   ]
  },
  {
   "cell_type": "code",
   "execution_count": 4,
   "id": "a10971e8",
   "metadata": {},
   "outputs": [],
   "source": [
    "class CassavaImageDataset(Dataset):\n",
    "    def __init__(self, annotations_file, img_dir, transform, target_transform=None):\n",
    "        self.img_labels = pd.read_csv(annotations_file)\n",
    "        self.img_dir = img_dir\n",
    "        self.transform = transform\n",
    "        self.target_transform = target_transform\n",
    "       \n",
    "\n",
    "    def __len__(self):\n",
    "        return len(self.img_labels)\n",
    "\n",
    "    def __getitem__(self, idx):\n",
    "        img_path = os.path.join(self.img_dir, self.img_labels.iloc[idx, 0])\n",
    "        image = read_image(img_path)\n",
    "        label = self.img_labels.iloc[idx, 1]\n",
    "        if self.transform:\n",
    "            image = self.transform(image)\n",
    "        if self.target_transform:\n",
    "            label = self.target_transform(label)\n",
    "        return image, label"
   ]
  },
  {
   "cell_type": "code",
   "execution_count": 7,
   "id": "9bdf8fe2",
   "metadata": {},
   "outputs": [],
   "source": [
    "data_transforms = transforms.Compose([\n",
    "    transforms.ToPILImage(),\n",
    "    transforms.Resize((224,224)),\n",
    "    transforms.RandomResizedCrop(224),\n",
    "    transforms.RandomHorizontalFlip(p=0.5),\n",
    "    transforms.RandomRotation(degrees = 45),  \n",
    "    transforms.ToTensor(),\n",
    "    transforms.Normalize([0.485, 0.456, 0.406], [0.229, 0.224, 0.225])])"
   ]
  },
  {
   "cell_type": "code",
   "execution_count": 8,
   "id": "a6802a6e",
   "metadata": {},
   "outputs": [],
   "source": [
    "cassava_dataset = CassavaImageDataset(annotations_file, img_dir, data_transforms)"
   ]
  },
  {
   "cell_type": "code",
   "execution_count": 9,
   "id": "e8af47f2",
   "metadata": {},
   "outputs": [],
   "source": [
    "train_size = int(0.75 * cassava_dataset.__len__())\n",
    "test_size = cassava_dataset.__len__() - train_size\n",
    "train_dataset, test_dataset = torch.utils.data.random_split(cassava_dataset, [train_size, test_size])"
   ]
  },
  {
   "cell_type": "code",
   "execution_count": 11,
   "id": "222e358c",
   "metadata": {},
   "outputs": [
    {
     "name": "stdout",
     "output_type": "stream",
     "text": [
      "train size: 16047\n",
      "test size: 5350\n"
     ]
    }
   ],
   "source": [
    "print(f\"train size: {train_dataset.__len__()}\")\n",
    "print(f\"test size: {test_dataset.__len__()}\")"
   ]
  },
  {
   "cell_type": "code",
   "execution_count": 12,
   "id": "49cc5eff",
   "metadata": {},
   "outputs": [],
   "source": [
    "train_dataloader = DataLoader(train_dataset, batch_size=8, num_workers = 2, shuffle=True)\n",
    "test_dataloader = DataLoader(test_dataset, batch_size=8, num_workers = 2, shuffle=True)"
   ]
  }
 ],
 "metadata": {
  "kernelspec": {
   "display_name": "Python 3 (ipykernel)",
   "language": "python",
   "name": "python3"
  },
  "language_info": {
   "codemirror_mode": {
    "name": "ipython",
    "version": 3
   },
   "file_extension": ".py",
   "mimetype": "text/x-python",
   "name": "python",
   "nbconvert_exporter": "python",
   "pygments_lexer": "ipython3",
   "version": "3.10.5"
  }
 },
 "nbformat": 4,
 "nbformat_minor": 5
}
